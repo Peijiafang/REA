{
  "nbformat": 4,
  "nbformat_minor": 0,
  "metadata": {
    "colab": {
      "name": "demo.ipynb",
      "provenance": [],
      "mount_file_id": "1I_KOWh5urrSkLF1ofQeNeoaj2fWZiJl5",
      "authorship_tag": "ABX9TyPzAyVwxA6GSyBZbFRo1Qk6",
      "include_colab_link": true
    },
    "kernelspec": {
      "name": "python3",
      "display_name": "Python 3"
    },
    "language_info": {
      "name": "python"
    },
    "accelerator": "GPU"
  },
  "cells": [
    {
      "cell_type": "markdown",
      "metadata": {
        "id": "view-in-github",
        "colab_type": "text"
      },
      "source": [
        "<a href=\"https://colab.research.google.com/github/Peijiafang/REA/blob/main/demo.ipynb\" target=\"_parent\"><img src=\"https://colab.research.google.com/assets/colab-badge.svg\" alt=\"Open In Colab\"/></a>"
      ]
    },
    {
      "cell_type": "code",
      "execution_count": null,
      "metadata": {
        "colab": {
          "base_uri": "https://localhost:8080/"
        },
        "id": "0Gq8w8m2XBG1",
        "outputId": "2626ff6e-3e5f-4950-c997-5839032895ce"
      },
      "outputs": [
        {
          "output_type": "stream",
          "name": "stdout",
          "text": [
            "/content/drive/MyDrive/reattention\n"
          ]
        }
      ],
      "source": [
        "cd /content/drive/MyDrive/reattention"
      ]
    },
    {
      "cell_type": "code",
      "source": [
        "ls\n"
      ],
      "metadata": {
        "colab": {
          "base_uri": "https://localhost:8080/"
        },
        "id": "o05mkyhWXi_Y",
        "outputId": "59a8956c-f35d-4cdb-b979-286e206c66b1"
      },
      "execution_count": null,
      "outputs": [
        {
          "output_type": "stream",
          "name": "stdout",
          "text": [
            "\u001b[0m\u001b[01;34massets\u001b[0m/     \u001b[01;34mdecoders\u001b[0m/      IROS21_STD.zip  README.md        train.py\n",
            "\u001b[01;34mbackbones\u001b[0m/  demo.py        \u001b[01;34mmodel\u001b[0m/          requirement.txt  Untitled0.ipynb\n",
            "\u001b[01;34mconcern\u001b[0m/    eval.py        \u001b[01;34moutputs\u001b[0m/        \u001b[01;34mstructure\u001b[0m/       \u001b[01;36mworkspace\u001b[0m@\n",
            "\u001b[01;34mdata\u001b[0m/       experiment.py  print.py        trainer.py\n",
            "\u001b[01;34mDB_venv\u001b[0m/    \u001b[01;34mexperiments\u001b[0m/   \u001b[01;34m__pycache__\u001b[0m/    \u001b[01;34mtraining\u001b[0m/\n"
          ]
        }
      ]
    },
    {
      "cell_type": "code",
      "source": [
        "!echo $CUDA_HOME\n"
      ],
      "metadata": {
        "colab": {
          "base_uri": "https://localhost:8080/"
        },
        "id": "teZAj6KpXob3",
        "outputId": "5baa50ed-ce57-44c0-b604-d37d3c3ed0ba"
      },
      "execution_count": null,
      "outputs": [
        {
          "output_type": "stream",
          "name": "stdout",
          "text": [
            "\n"
          ]
        }
      ]
    },
    {
      "cell_type": "code",
      "source": [
        "cd assets/ops/dcn/"
      ],
      "metadata": {
        "colab": {
          "base_uri": "https://localhost:8080/"
        },
        "id": "ZSU7qoIzX5_V",
        "outputId": "2cbaef0d-9545-4cec-d300-06267647b653"
      },
      "execution_count": null,
      "outputs": [
        {
          "output_type": "stream",
          "name": "stdout",
          "text": [
            "/content/drive/MyDrive/reattention/assets/ops/dcn\n"
          ]
        }
      ]
    },
    {
      "cell_type": "code",
      "source": [
        "!python setup.py build_ext --inplace"
      ],
      "metadata": {
        "colab": {
          "base_uri": "https://localhost:8080/"
        },
        "id": "Gt_Cfa0XZTOc",
        "outputId": "cd1f0655-bd32-430e-eb32-37a093b7f739"
      },
      "execution_count": null,
      "outputs": [
        {
          "output_type": "stream",
          "name": "stdout",
          "text": [
            "running build_ext\n",
            "/usr/local/lib/python3.7/dist-packages/torch/utils/cpp_extension.py:381: UserWarning: Attempted to use ninja as the BuildExtension backend but we could not find ninja.. Falling back to using the slow distutils backend.\n",
            "  warnings.warn(msg.format('we could not find ninja.'))\n",
            "copying build/lib.linux-x86_64-3.7/deform_conv_cuda.cpython-37m-x86_64-linux-gnu.so -> \n",
            "copying build/lib.linux-x86_64-3.7/deform_pool_cuda.cpython-37m-x86_64-linux-gnu.so -> \n"
          ]
        }
      ]
    },
    {
      "cell_type": "code",
      "source": [
        "cd ../../..\n"
      ],
      "metadata": {
        "colab": {
          "base_uri": "https://localhost:8080/"
        },
        "id": "iDksrw8ldkDh",
        "outputId": "5ed441bd-437a-474f-f4b5-52dd54bd1315"
      },
      "execution_count": null,
      "outputs": [
        {
          "output_type": "stream",
          "name": "stdout",
          "text": [
            "/content/drive/MyDrive/reattention\n"
          ]
        }
      ]
    },
    {
      "cell_type": "code",
      "source": [
        "!pip install -r requirement.txt\n"
      ],
      "metadata": {
        "colab": {
          "base_uri": "https://localhost:8080/"
        },
        "id": "SJ5fiowCdu29",
        "outputId": "5717bc80-7d53-4010-ed6b-571b47e25db5"
      },
      "execution_count": null,
      "outputs": [
        {
          "output_type": "stream",
          "name": "stdout",
          "text": [
            "Requirement already satisfied: pyyaml in /usr/local/lib/python3.7/dist-packages (from -r requirement.txt (line 1)) (3.13)\n",
            "Requirement already satisfied: tqdm in /usr/local/lib/python3.7/dist-packages (from -r requirement.txt (line 2)) (4.63.0)\n",
            "Requirement already satisfied: opencv-python==4.1.2.30 in /usr/local/lib/python3.7/dist-packages (from -r requirement.txt (line 3)) (4.1.2.30)\n",
            "Collecting anyconfig\n",
            "  Downloading anyconfig-0.12.0-py2.py3-none-any.whl (87 kB)\n",
            "\u001b[?25l\r\u001b[K     |███▊                            | 10 kB 21.0 MB/s eta 0:00:01\r\u001b[K     |███████▌                        | 20 kB 26.0 MB/s eta 0:00:01\r\u001b[K     |███████████▏                    | 30 kB 23.5 MB/s eta 0:00:01\r\u001b[K     |███████████████                 | 40 kB 18.5 MB/s eta 0:00:01\r\u001b[K     |██████████████████▋             | 51 kB 13.4 MB/s eta 0:00:01\r\u001b[K     |██████████████████████▍         | 61 kB 15.5 MB/s eta 0:00:01\r\u001b[K     |██████████████████████████▏     | 71 kB 14.3 MB/s eta 0:00:01\r\u001b[K     |█████████████████████████████▉  | 81 kB 15.6 MB/s eta 0:00:01\r\u001b[K     |████████████████████████████████| 87 kB 6.5 MB/s \n",
            "\u001b[?25hCollecting munch\n",
            "  Downloading munch-2.5.0-py2.py3-none-any.whl (10 kB)\n",
            "Requirement already satisfied: scipy in /usr/local/lib/python3.7/dist-packages (from -r requirement.txt (line 6)) (1.4.1)\n",
            "Requirement already satisfied: sortedcontainers in /usr/local/lib/python3.7/dist-packages (from -r requirement.txt (line 7)) (2.4.0)\n",
            "Requirement already satisfied: shapely in /usr/local/lib/python3.7/dist-packages (from -r requirement.txt (line 8)) (1.8.1.post1)\n",
            "Collecting pyclipper\n",
            "  Downloading pyclipper-1.3.0.post2-cp37-cp37m-manylinux_2_5_x86_64.manylinux1_x86_64.whl (603 kB)\n",
            "\u001b[K     |████████████████████████████████| 603 kB 36.2 MB/s \n",
            "\u001b[?25hCollecting gevent\n",
            "  Downloading gevent-21.12.0-cp37-cp37m-manylinux_2_12_x86_64.manylinux2010_x86_64.whl (5.8 MB)\n",
            "\u001b[K     |████████████████████████████████| 5.8 MB 49.1 MB/s \n",
            "\u001b[?25hCollecting gevent-websocket\n",
            "  Downloading gevent_websocket-0.10.1-py3-none-any.whl (22 kB)\n",
            "Requirement already satisfied: flask in /usr/local/lib/python3.7/dist-packages (from -r requirement.txt (line 12)) (1.1.4)\n",
            "Requirement already satisfied: editdistance in /usr/local/lib/python3.7/dist-packages (from -r requirement.txt (line 13)) (0.5.3)\n",
            "Requirement already satisfied: scikit-image in /usr/local/lib/python3.7/dist-packages (from -r requirement.txt (line 14)) (0.18.3)\n",
            "Requirement already satisfied: imgaug in /usr/local/lib/python3.7/dist-packages (from -r requirement.txt (line 15)) (0.2.9)\n",
            "Requirement already satisfied: numpy>=1.14.5 in /usr/local/lib/python3.7/dist-packages (from opencv-python==4.1.2.30->-r requirement.txt (line 3)) (1.21.5)\n",
            "Requirement already satisfied: setuptools in /usr/local/lib/python3.7/dist-packages (from anyconfig->-r requirement.txt (line 4)) (57.4.0)\n",
            "Requirement already satisfied: six in /usr/local/lib/python3.7/dist-packages (from munch->-r requirement.txt (line 5)) (1.15.0)\n",
            "Collecting zope.interface\n",
            "  Downloading zope.interface-5.4.0-cp37-cp37m-manylinux2010_x86_64.whl (251 kB)\n",
            "\u001b[K     |████████████████████████████████| 251 kB 62.1 MB/s \n",
            "\u001b[?25hRequirement already satisfied: greenlet<2.0,>=1.1.0 in /usr/local/lib/python3.7/dist-packages (from gevent->-r requirement.txt (line 10)) (1.1.2)\n",
            "Collecting zope.event\n",
            "  Downloading zope.event-4.5.0-py2.py3-none-any.whl (6.8 kB)\n",
            "Requirement already satisfied: click<8.0,>=5.1 in /usr/local/lib/python3.7/dist-packages (from flask->-r requirement.txt (line 12)) (7.1.2)\n",
            "Requirement already satisfied: Jinja2<3.0,>=2.10.1 in /usr/local/lib/python3.7/dist-packages (from flask->-r requirement.txt (line 12)) (2.11.3)\n",
            "Requirement already satisfied: Werkzeug<2.0,>=0.15 in /usr/local/lib/python3.7/dist-packages (from flask->-r requirement.txt (line 12)) (1.0.1)\n",
            "Requirement already satisfied: itsdangerous<2.0,>=0.24 in /usr/local/lib/python3.7/dist-packages (from flask->-r requirement.txt (line 12)) (1.1.0)\n",
            "Requirement already satisfied: MarkupSafe>=0.23 in /usr/local/lib/python3.7/dist-packages (from Jinja2<3.0,>=2.10.1->flask->-r requirement.txt (line 12)) (2.0.1)\n",
            "Requirement already satisfied: tifffile>=2019.7.26 in /usr/local/lib/python3.7/dist-packages (from scikit-image->-r requirement.txt (line 14)) (2021.11.2)\n",
            "Requirement already satisfied: networkx>=2.0 in /usr/local/lib/python3.7/dist-packages (from scikit-image->-r requirement.txt (line 14)) (2.6.3)\n",
            "Requirement already satisfied: imageio>=2.3.0 in /usr/local/lib/python3.7/dist-packages (from scikit-image->-r requirement.txt (line 14)) (2.4.1)\n",
            "Requirement already satisfied: matplotlib!=3.0.0,>=2.0.0 in /usr/local/lib/python3.7/dist-packages (from scikit-image->-r requirement.txt (line 14)) (3.2.2)\n",
            "Requirement already satisfied: pillow!=7.1.0,!=7.1.1,>=4.3.0 in /usr/local/lib/python3.7/dist-packages (from scikit-image->-r requirement.txt (line 14)) (7.1.2)\n",
            "Requirement already satisfied: PyWavelets>=1.1.1 in /usr/local/lib/python3.7/dist-packages (from scikit-image->-r requirement.txt (line 14)) (1.2.0)\n",
            "Requirement already satisfied: python-dateutil>=2.1 in /usr/local/lib/python3.7/dist-packages (from matplotlib!=3.0.0,>=2.0.0->scikit-image->-r requirement.txt (line 14)) (2.8.2)\n",
            "Requirement already satisfied: kiwisolver>=1.0.1 in /usr/local/lib/python3.7/dist-packages (from matplotlib!=3.0.0,>=2.0.0->scikit-image->-r requirement.txt (line 14)) (1.3.2)\n",
            "Requirement already satisfied: cycler>=0.10 in /usr/local/lib/python3.7/dist-packages (from matplotlib!=3.0.0,>=2.0.0->scikit-image->-r requirement.txt (line 14)) (0.11.0)\n",
            "Requirement already satisfied: pyparsing!=2.0.4,!=2.1.2,!=2.1.6,>=2.0.1 in /usr/local/lib/python3.7/dist-packages (from matplotlib!=3.0.0,>=2.0.0->scikit-image->-r requirement.txt (line 14)) (3.0.7)\n",
            "Installing collected packages: zope.interface, zope.event, gevent, pyclipper, munch, gevent-websocket, anyconfig\n",
            "Successfully installed anyconfig-0.12.0 gevent-21.12.0 gevent-websocket-0.10.1 munch-2.5.0 pyclipper-1.3.0.post2 zope.event-4.5.0 zope.interface-5.4.0\n"
          ]
        }
      ]
    },
    {
      "cell_type": "code",
      "source": [
        "!python demo.py experiments/total_text/totaltext_deform_resnet50_bifpn_1layer_zoom_local.yaml --image_path datasets/total_text/test_images/img10.jpg --resume model/totaltext_deform_resnet50_BiFPN_1layer_select_blur --polygon --box_thresh 0.7 --visualize"
      ],
      "metadata": {
        "colab": {
          "base_uri": "https://localhost:8080/"
        },
        "id": "q3oCBSR4hI9n",
        "outputId": "ca6ad3fc-05a5-449c-b4f8-9244bd41c5a3"
      },
      "execution_count": null,
      "outputs": [
        {
          "output_type": "stream",
          "name": "stdout",
          "text": [
            "verbose: True\n",
            "Initializing log dir for workspace/SegDetectorModel-totaltext/deformable_resnet50/BiFPN_1layer/L1BalanceCELoss\n",
            "Downloading: \"https://download.pytorch.org/models/resnet50-19c8e357.pth\" to /root/.cache/torch/hub/checkpoints/resnet50-19c8e357.pth\n",
            "100% 97.8M/97.8M [00:00<00:00, 209MB/s]\n",
            "Resuming from model/totaltext_deform_resnet50_BiFPN_1layer_select_blur\n",
            "Resumed from model/totaltext_deform_resnet50_BiFPN_1layer_select_blur\n"
          ]
        }
      ]
    },
    {
      "cell_type": "code",
      "source": [
        "!python eval.py experiments/total_text/totaltext_deform_resnet50_bifpn_1layer_zoom_local.yaml --resume model/totaltext_deform_resnet50_BiFPN_1layer_select_blur --polygon --box_thresh 0.5"
      ],
      "metadata": {
        "colab": {
          "base_uri": "https://localhost:8080/"
        },
        "id": "qEdwC7QgZb9q",
        "outputId": "6c8e0257-9c5f-4afe-b369-438c2aebd5cc"
      },
      "execution_count": null,
      "outputs": [
        {
          "output_type": "stream",
          "name": "stdout",
          "text": [
            "[INFO] [2022-03-14 16:45:45,126] Resuming from model/totaltext_deform_resnet50_BiFPN_1layer_select_blur\n",
            "[INFO] [2022-03-14 16:45:45,746] Resumed from model/totaltext_deform_resnet50_BiFPN_1layer_select_blur\n",
            "100%|█████████████████████████████████████████| 300/300 [03:19<00:00,  1.50it/s]\n",
            "[INFO] [2022-03-14 16:49:05,837] precision : 0.8633 (300)\n",
            "[INFO] [2022-03-14 16:49:05,838] recall : 0.8024 (300)\n",
            "[INFO] [2022-03-14 16:49:05,838] fmeasure : 0.8318 (1)\n",
            "[INFO] [2022-03-14 16:49:05,838] iou : 0.2931 (300)\n",
            "[INFO] [2022-03-14 16:49:05,838] iou_care : 0.6686 (300)\n",
            "|  th |   P    |   R    |   F    |  IOU   | IOU_care |\n",
            "| 0.5 | 0.8633 | 0.8024 | 0.8318 | 0.2931 |  0.6686  |\n"
          ]
        }
      ]
    },
    {
      "cell_type": "code",
      "source": [
        ""
      ],
      "metadata": {
        "id": "N9LR9zG3apa7"
      },
      "execution_count": null,
      "outputs": []
    }
  ]
}